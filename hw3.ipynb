{
 "cells": [
  {
   "cell_type": "code",
   "execution_count": 25,
   "id": "a2897e16-c4d3-4a32-97ca-7b144e019be2",
   "metadata": {},
   "outputs": [
    {
     "name": "stdout",
     "output_type": "stream",
     "text": [
      "Average price is  31.875\n"
     ]
    }
   ],
   "source": [
    "hairstyles= [\"bouffant\", \"pixie\", \"dreadlocks\", \"crew\", \"bowl\", \"bob\", \"mohawk\", \"flatttop\"]\n",
    "prices = [30,25,40,20,20,35,50,35]\n",
    "last_week = [2,3,5,8,4,4,6,2]\n",
    "total_price = 0\n",
    "for i in prices:\n",
    "    total_price += i\n",
    "average_price= total_price / len(prices)\n",
    "\n",
    "print(\"Average price is \",average_price)"
   ]
  },
  {
   "cell_type": "code",
   "execution_count": 27,
   "id": "f560cb19-cfc9-4e16-9fb5-9113e1110230",
   "metadata": {},
   "outputs": [
    {
     "name": "stdout",
     "output_type": "stream",
     "text": [
      "[25, 20, 35, 15, 15, 30, 45, 30] "
     ]
    }
   ],
   "source": [
    "new_prices =[]\n",
    "for i in range(len(prices)):\n",
    "    new_prices.append(prices[i] - 5)\n",
    "print(new_prices, end = \" \")"
   ]
  },
  {
   "cell_type": "code",
   "execution_count": 29,
   "id": "e79a03fc-b976-4a14-8ef3-d7b0443fb457",
   "metadata": {},
   "outputs": [
    {
     "name": "stdout",
     "output_type": "stream",
     "text": [
      "Average daily revenue is  155.0\n"
     ]
    }
   ],
   "source": [
    "total_revenue = 0\n",
    "for i in range(len(hairstyles)) :\n",
    "    total_revenue += prices[i] * last_week[i]\n",
    "\n",
    "total_revenue /= 7\n",
    "print(\"Average daily revenue is \", total_revenue)"
   ]
  },
  {
   "cell_type": "code",
   "execution_count": 30,
   "id": "8977f55a-ab71-4750-83f7-848bfbfcd1f5",
   "metadata": {},
   "outputs": [
    {
     "name": "stdout",
     "output_type": "stream",
     "text": [
      "['bouffant', 'pixie', 'crew', 'bowl']\n"
     ]
    }
   ],
   "source": [
    "cuts_under_30 = []\n",
    "for i in range(len(hairstyles)) :\n",
    "    if(new_prices[i] < 30) :\n",
    "        cuts_under_30.append(hairstyles[i])\n",
    "print(cuts_under_30)"
   ]
  },
  {
   "cell_type": "code",
   "execution_count": null,
   "id": "6b14b66e-822e-45bd-8bae-e1e35fbf0903",
   "metadata": {},
   "outputs": [],
   "source": []
  }
 ],
 "metadata": {
  "kernelspec": {
   "display_name": "Python 3 (ipykernel)",
   "language": "python",
   "name": "python3"
  },
  "language_info": {
   "codemirror_mode": {
    "name": "ipython",
    "version": 3
   },
   "file_extension": ".py",
   "mimetype": "text/x-python",
   "name": "python",
   "nbconvert_exporter": "python",
   "pygments_lexer": "ipython3",
   "version": "3.9.12"
  }
 },
 "nbformat": 4,
 "nbformat_minor": 5
}
