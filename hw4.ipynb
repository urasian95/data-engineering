{
 "cells": [
  {
   "cell_type": "code",
   "execution_count": 1,
   "id": "88f05a30-d9b6-4349-b2cf-8a89a233bb6b",
   "metadata": {},
   "outputs": [],
   "source": [
    "def get_my_chosun_name(family_name, month, day) :\n",
    "    name = family_name + str(month_collection[month - 1]) + str(day_collection[day - 1])\n",
    "    print(\"당신의 조선시대 이름은 \"+name + \"입니다.\")"
   ]
  },
  {
   "cell_type": "code",
   "execution_count": 3,
   "id": "e729fbab-2696-4bff-867b-44a9c8d41974",
   "metadata": {},
   "outputs": [
    {
     "name": "stdout",
     "output_type": "stream",
     "text": [
      "당신의 조선시대 이름은 황개질입니다.\n"
     ]
    }
   ],
   "source": [
    "month_collection = ['쌍', '쇠', '복', '돌', '팽', \\\n",
    "         '육', '쌍', '개', '칠', '갑', \\\n",
    "         '삼', '방']\n",
    "day_collection = ['봉', '구', '욕', '포', '똥', \\\n",
    "       '삼', '식', '석', '놈', '님', \\\n",
    "       '년', '돌', '단', '득', '방', \\\n",
    "       '질', '장', '걸', '래', '룡', \\\n",
    "       '동', '순', '자', '박', '창', \\\n",
    "       '언', '것', '포', '만', '단', '국']\n",
    "get_my_chosun_name('황',8, 16)"
   ]
  },
  {
   "cell_type": "code",
   "execution_count": null,
   "id": "7ca5022d-1596-4c53-abb9-9f2a76ead80e",
   "metadata": {},
   "outputs": [],
   "source": []
  }
 ],
 "metadata": {
  "kernelspec": {
   "display_name": "Python 3 (ipykernel)",
   "language": "python",
   "name": "python3"
  },
  "language_info": {
   "codemirror_mode": {
    "name": "ipython",
    "version": 3
   },
   "file_extension": ".py",
   "mimetype": "text/x-python",
   "name": "python",
   "nbconvert_exporter": "python",
   "pygments_lexer": "ipython3",
   "version": "3.9.12"
  }
 },
 "nbformat": 4,
 "nbformat_minor": 5
}
